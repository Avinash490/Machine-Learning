{
 "cells": [
  {
   "cell_type": "code",
   "execution_count": 13,
   "id": "dd0c6a9f-60c2-4e8f-8c07-cb068f5708ef",
   "metadata": {},
   "outputs": [
    {
     "name": "stdout",
     "output_type": "stream",
     "text": [
      "[[1 2 3]\n",
      " [4 5 6]]\n",
      "\n",
      "[1 2 3 4 5 6]\n"
     ]
    }
   ],
   "source": [
    "from numpy import *\n",
    "a = array([(1,2,3),(4,5,6)])\n",
    "print(a)\n",
    "print()\n",
    "print(a.ravel())\n",
    "# ravel() fun is used to  change 2D dimension into 1D array."
   ]
  },
  {
   "cell_type": "code",
   "execution_count": 12,
   "id": "f8964ed0-44b7-443b-8128-ce7c90a69b90",
   "metadata": {},
   "outputs": [
    {
     "name": "stdout",
     "output_type": "stream",
     "text": [
      "[[1 2 3]\n",
      " [4 5 6]]\n",
      "\n",
      "[[1 2 3 1 2 3]\n",
      " [4 5 6 4 5 6]]\n",
      "\n",
      "[[1 2 3]\n",
      " [4 5 6]\n",
      " [1 2 3]\n",
      " [4 5 6]]\n"
     ]
    }
   ],
   "source": [
    "from numpy import *\n",
    "a = array([(1,2,3),(4,5,6)])\n",
    "b = array([(1,2,3),(4,5,6)])\n",
    "print(a)\n",
    "print()\n",
    "print(hstack((a,b)))\n",
    "# hstack() used for horizontal(row) stacking.\n",
    "# it takes array name as arguments.\n",
    "print()\n",
    "print(vstack((a,b)))\n",
    "# hstack() used for vertical(column) stacking.\n",
    "# it takes array name as arguments.\n"
   ]
  },
  {
   "cell_type": "code",
   "execution_count": 11,
   "id": "420fad3f-a736-4561-884d-076ea4930331",
   "metadata": {},
   "outputs": [
    {
     "name": "stdout",
     "output_type": "stream",
     "text": [
      "[[1 2 3]\n",
      " [4 5 5]]\n",
      "\n",
      "[5 7 8]\n",
      "\n",
      "[ 6 14]\n"
     ]
    }
   ],
   "source": [
    "from numpy import *\n",
    "a = array([(1,2,3),(4,5,5)])\n",
    "print(a)\n",
    "print()\n",
    "\n",
    "# print()\n",
    "print(a.sum(axis=0))\n",
    "print()\n",
    "print(a.sum(axis=1))"
   ]
  },
  {
   "cell_type": "code",
   "execution_count": 10,
   "id": "df23d606-4bda-463e-ac96-34b6e8be4efc",
   "metadata": {},
   "outputs": [
    {
     "name": "stdout",
     "output_type": "stream",
     "text": [
      "hello World!\n"
     ]
    }
   ],
   "source": [
    "print(\"hello\",end = \" \")\n",
    "print(\"World!\")\n"
   ]
  },
  {
   "cell_type": "code",
   "execution_count": 9,
   "id": "09f0da58-b334-40fd-ba41-b5d574e57828",
   "metadata": {},
   "outputs": [
    {
     "name": "stdout",
     "output_type": "stream",
     "text": [
      "[0. 0. 0. 0. 0.]\n",
      "[1. 1. 1. 1. 1.]\n",
      "[1 3 5 7 9]\n",
      "[1.         1.22222222 1.44444444 1.66666667 1.88888889 2.11111111\n",
      " 2.33333333 2.55555556 2.77777778 3.        ]\n"
     ]
    }
   ],
   "source": [
    "from numpy import *\n",
    "arr1 = zeros(5)\n",
    "arr2 = ones(5)\n",
    "arr3 = arange(1,10,2)\n",
    "arr4 = linspace(1,3,10)\n",
    "print(arr1)\n",
    "print(arr2)\n",
    "print(arr3)\n",
    "print(arr4)"
   ]
  },
  {
   "cell_type": "code",
   "execution_count": 8,
   "id": "87290c42-97d6-4cac-b978-8e771b869178",
   "metadata": {},
   "outputs": [
    {
     "name": "stdout",
     "output_type": "stream",
     "text": [
      "[[ 1  2  3]\n",
      " [ 4  5  6]\n",
      " [ 7  8  9]\n",
      " [10 11 12]]\n"
     ]
    }
   ],
   "source": [
    "from numpy import *\n",
    "arr1 = array([\n",
    "    [1,2,3],\n",
    "    [4,5,6],\n",
    "    [7,8,9],\n",
    "    [10,11,12]\n",
    "])\n",
    "print(arr1)\n",
    "# convert an array in 3D array\n",
    "arr2= arr1.reshape(2,2,3)"
   ]
  },
  {
   "cell_type": "code",
   "execution_count": 7,
   "id": "5c007973-e94a-4a55-9a44-e57820061376",
   "metadata": {},
   "outputs": [
    {
     "name": "stdout",
     "output_type": "stream",
     "text": [
      "[[1 2]\n",
      " [3 4]]\n"
     ]
    }
   ],
   "source": [
    "# coverting a 1D array into 2D array.\n",
    "from numpy import *\n",
    "arr1 = array([1,2,3,4])\n",
    "arr2 = arr1.reshape(2,2)\n",
    "# reshape() fun is used to change 1D array into 2D or 3D array. \n",
    "# It takes no. of rows and columns as an argument.\n",
    "print(arr2)"
   ]
  },
  {
   "cell_type": "code",
   "execution_count": 6,
   "id": "52740fe1-e0d1-46e9-bd92-19f72eb8eecd",
   "metadata": {},
   "outputs": [
    {
     "name": "stdout",
     "output_type": "stream",
     "text": [
      "[[1 2 3]\n",
      " [4 5 6]\n",
      " [7 8 9]]\n",
      "9\n",
      "After converting 3D array into 1D array.\n",
      "[1 2 3 4 5 6 7 8 9]\n"
     ]
    }
   ],
   "source": [
    "from numpy import *\n",
    "arr1 = array([\n",
    "                [1,2,3],\n",
    "                [4,5,6],\n",
    "                [7,8,9]\n",
    "])\n",
    "             \n",
    "print(arr1)\n",
    "print(arr1[2,2])\n",
    "print(\"After converting 3D array into 1D array.\")\n",
    "arr2 = arr1.flatten()\n",
    "# flatten() fun is used to change the dimension of the array.\n",
    "print(arr2)\n"
   ]
  },
  {
   "cell_type": "code",
   "execution_count": 5,
   "id": "0582d345-ba3b-4635-984b-e93c4e569d73",
   "metadata": {},
   "outputs": [
    {
     "name": "stdout",
     "output_type": "stream",
     "text": [
      "[[1 2]\n",
      " [3 4]]\n",
      "the dimension of arr2 is: 2\n",
      "the no of rows and columns is: (2, 2)\n",
      "the total no of elements is: 4\n"
     ]
    }
   ],
   "source": [
    "# making 2D array\n",
    "from numpy import *\n",
    "# arr1= array([{1,2},{3,4}])\n",
    "arr2= array([[1,2],[3,4]])\n",
    "# print(arr1)\n",
    "print(arr2)\n",
    "# print(arr1.ndim)\n",
    "print(\"the dimension of arr2 is:\",arr2.ndim)\n",
    "print(\"the no of rows and columns is:\",arr2.shape)\n",
    "print(\"the total no of elements is:\",arr2.size)\n"
   ]
  },
  {
   "cell_type": "code",
   "execution_count": 4,
   "id": "a6a6e020-8483-4f5b-8030-d200c20ac7c1",
   "metadata": {},
   "outputs": [
    {
     "name": "stdout",
     "output_type": "stream",
     "text": [
      "[1 2 3 4 5]\n",
      "[1 2 3 4 5]\n",
      "<class 'numpy.ndarray'>\n",
      "int32\n",
      "[1 2 3 4 5 1 2 3 4 5]\n"
     ]
    }
   ],
   "source": [
    "import numpy as np\n",
    "arr1 = np.array([1,2,3,4,5])\n",
    "print(arr1)\n",
    "# arr2= np.array([5])\n",
    "arr2 = arr1;\n",
    "print(arr2);\n",
    "print(type(arr2))\n",
    "print(arr2.dtype)\n",
    "print(concatenate([arr1,arr2]))"
   ]
  },
  {
   "cell_type": "code",
   "execution_count": 3,
   "id": "81fa0179-5e24-444b-90bc-7d26900704e8",
   "metadata": {},
   "outputs": [
    {
     "name": "stdout",
     "output_type": "stream",
     "text": [
      "[1 2 3 4 5]\n",
      "[0.         0.69314718 1.09861229 1.38629436 1.60943791]\n",
      "[1.         1.41421356 1.73205081 2.         2.23606798]\n",
      "15\n",
      "5\n",
      "1\n",
      "[ 0.         -0.98803162  0.85090352  0.89399666]\n"
     ]
    }
   ],
   "source": [
    "from numpy import *\n",
    "arr1 = array([1,2,3,4,5])\n",
    "print(arr1)\n",
    "print(log(arr1))\n",
    "print(sqrt(arr1))\n",
    "# print()\n",
    "print(sum(arr1))\n",
    "print(max(arr1))\n",
    "print(min(arr1))\n",
    "arr2= array([0,30,45,90])\n",
    "print(sin(arr2))"
   ]
  },
  {
   "cell_type": "code",
   "execution_count": 2,
   "id": "e37c3535-e744-4fb1-accf-6ccec193f89f",
   "metadata": {},
   "outputs": [
    {
     "name": "stdout",
     "output_type": "stream",
     "text": [
      "hello\n"
     ]
    }
   ],
   "source": [
    "print(\"hello\")"
   ]
  },
  {
   "cell_type": "code",
   "execution_count": 1,
   "id": "de02fdf3-7427-4e0f-9eeb-974ac1d35678",
   "metadata": {},
   "outputs": [
    {
     "name": "stdout",
     "output_type": "stream",
     "text": [
      "8\n"
     ]
    }
   ],
   "source": [
    "print(4+4)"
   ]
  }
 ],
 "metadata": {
  "kernelspec": {
   "display_name": "Python 3 (ipykernel)",
   "language": "python",
   "name": "python3"
  },
  "language_info": {
   "codemirror_mode": {
    "name": "ipython",
    "version": 3
   },
   "file_extension": ".py",
   "mimetype": "text/x-python",
   "name": "python",
   "nbconvert_exporter": "python",
   "pygments_lexer": "ipython3",
   "version": "3.12.3"
  }
 },
 "nbformat": 4,
 "nbformat_minor": 5
}
